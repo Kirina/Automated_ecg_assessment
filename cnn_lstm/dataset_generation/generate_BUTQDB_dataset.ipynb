{
 "cells": [
  {
   "cell_type": "code",
   "execution_count": 1,
   "id": "87f0743c",
   "metadata": {},
   "outputs": [],
   "source": [
    "import os\n",
    "import wfdb\n",
    "import numpy as np\n",
    "import matplotlib.pyplot as plt\n",
    "from scipy.io import wavfile\n",
    "from scipy.signal import resample\n",
    "from data_storage_utils import normalizer\n",
    "from parameters_CINC11CINC17_balanced import parameters\n",
    "parameters = parameters()\n",
    "\n",
    "data_length = parameters['data_length']\n",
    "wav_data_range = parameters['wav_data_range']\n",
    "input_data_folder = parameters['path_BUTQDB']\n",
    "output_folder = parameters['path_BUTQDB_test']"
   ]
  },
  {
   "cell_type": "code",
   "execution_count": 4,
   "id": "3e6e5868",
   "metadata": {
    "scrolled": false
   },
   "outputs": [],
   "source": [
    "ecg_numbers = os.listdir(input_data_folder)\n",
    "for number in ecg_numbers:\n",
    "    with open(f'{input_data_folder}//{number}//{number}_ANN.csv') as f:\n",
    "        lines = f.readlines()\n",
    "\n",
    "        for line in lines:\n",
    "            line = line.split(',')\n",
    "            \n",
    "            if (int(line[-2]) - int(line[-3]) >= data_length*2):\n",
    "                label = 1 # everything except label 3 is set to 1 ( acceptable )\n",
    "                if line[-1][0] == '3':\n",
    "                    label = 0 # set to 0 ( unacceptable ) if label 3\n",
    "                    \n",
    "                segment_length = int(line[-2]) - int(line[-3])\n",
    "                # get ecg recording from start label to end label\n",
    "                record = wfdb.rdrecord(f'{input_data_folder}//{number}//{number}_ECG', sampfrom=int(line[-3]), sampto=int(line[-2])) \n",
    "                start_data = 0 # start at index 0 in recording\n",
    "                for end_data in range(data_length*2, segment_length, data_length*2): # iterate over segments in recoding\n",
    "                    data = record.__dict__['p_signal'][start_data:end_data]\n",
    "                    data = resample(data, data_length) # convert 1000Hz to 500Hz\n",
    "                    data = normalizer(data, wav_data_range)\n",
    "                    data = np.asarray(data, dtype=np.int16)\n",
    "                    wavfile.write(f'{output_folder}\\\\{label}\\\\{number}_{line[-3]}_{start_data}.wav', 500, data)\n",
    "                    \n",
    "#                     file = wavfile.read(f'{output_folder}\\\\{label}\\\\{number}_{line[-3]}_{start_data}.wav')\n",
    "#                     plt.plot(data)\n",
    "#                     plt.title(f'{number}_{line[-3]}_{int(line[-3])+start_data} {int(line[-3])+end_data}')\n",
    "#                     plt.show()\n",
    "\n",
    "                    start_data = end_data # start next data segement at end of last"
   ]
  }
 ],
 "metadata": {
  "kernelspec": {
   "display_name": "Python 3 (ipykernel)",
   "language": "python",
   "name": "python3"
  },
  "language_info": {
   "codemirror_mode": {
    "name": "ipython",
    "version": 3
   },
   "file_extension": ".py",
   "mimetype": "text/x-python",
   "name": "python",
   "nbconvert_exporter": "python",
   "pygments_lexer": "ipython3",
   "version": "3.8.11"
  }
 },
 "nbformat": 4,
 "nbformat_minor": 5
}
