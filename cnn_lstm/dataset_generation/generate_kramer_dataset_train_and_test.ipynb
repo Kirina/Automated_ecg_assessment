{
 "cells": [
  {
   "cell_type": "markdown",
   "id": "f3d312cc",
   "metadata": {},
   "source": [
    "This contains code for generating the testing and training datasets used by Kramer et al. (2022)\n",
    "\n",
    "[link to paper](10.3389/fdgth.2022.847555)\n"
   ]
  },
  {
   "cell_type": "code",
   "execution_count": 1,
   "id": "0c2bf5e9",
   "metadata": {},
   "outputs": [],
   "source": [
    "import numpy as np\n",
    "import scipy.io\n",
    "import shutil\n",
    "import os\n",
    "from scipy.io.wavfile import write\n",
    "import csv\n",
    "\n",
    "from parameters_kramer import parameters\n",
    "from data_storage_utils import create_directory, normalizer, generate_store_kramer_data\n",
    "\n",
    "parameters = parameters()"
   ]
  },
  {
   "cell_type": "code",
   "execution_count": 2,
   "id": "615887a1",
   "metadata": {},
   "outputs": [],
   "source": [
    "path_training_data = parameters['annotation_file_train'] # location of anntotation file\n",
    "path_testing_data =  parameters['annotation_file_test'] # location of anntotation file\n",
    "path_cinc11 = parameters['path_cinc11']\n",
    "path_save_training = parameters['train_data']\n",
    "path_save_testing = parameters['test_data']"
   ]
  },
  {
   "cell_type": "code",
   "execution_count": 3,
   "id": "a109b35d",
   "metadata": {},
   "outputs": [],
   "source": [
    "data_length = parameters['data_length']\n",
    "wav_data_range = parameters['wav_data_range']\n",
    "amount_data = 3870 # number of datapoints we want per label"
   ]
  },
  {
   "cell_type": "code",
   "execution_count": 4,
   "id": "573fdeda",
   "metadata": {},
   "outputs": [],
   "source": [
    "label_count = [0, 0] # nubmer of current datapoints per label"
   ]
  },
  {
   "cell_type": "code",
   "execution_count": 5,
   "id": "862445eb",
   "metadata": {},
   "outputs": [],
   "source": [
    "# only for debugging, remove existing dataset by removing folder:\n",
    "# shutil.rmtree(path_save+\"\\\\0\")\n",
    "# shutil.rmtree(path_save+\"\\\\1\")"
   ]
  },
  {
   "cell_type": "markdown",
   "id": "c2f92b3f",
   "metadata": {},
   "source": [
    "Normalization function used:"
   ]
  },
  {
   "cell_type": "markdown",
   "id": "fcf8a1b7",
   "metadata": {},
   "source": [
    "$data_{normalized}\\mapsto \\frac{data-r_{\\text{min}}}{r_{\\text{max}}-r_{\\text{min}}}\\times (t_{\\text{max}}-t_{\\text{min}}) + t_{\\text{min}}$"
   ]
  },
  {
   "cell_type": "markdown",
   "id": "9508910c",
   "metadata": {},
   "source": [
    "Get the annotation of the data and save it in the `annotations` array and their corresponding recording numbers and save it in the `recording numbers` array. The `generate_store_kramer_data` function finds the location where the data is stored. The name of the data file is the recording number. The data is then saved as a `.wav` file in a folder named according to the annotation number. E.G. : `\\\\Code\\\\kramer_data\\\\0\\\\1002603_10.wav`"
   ]
  },
  {
   "cell_type": "markdown",
   "id": "beb89a80",
   "metadata": {},
   "source": [
    "# Save training data"
   ]
  },
  {
   "cell_type": "code",
   "execution_count": 6,
   "id": "facc796f",
   "metadata": {},
   "outputs": [],
   "source": [
    "annotations = []\n",
    "\n",
    "with open(path_training_data+\"\\\\Annotation Training Set Group I.txt\") as f:\n",
    "    lines = f.readlines()\n",
    "    for line in lines: \n",
    "        line = line.split('\\t')\n",
    "        annotations_12 = []\n",
    "        for val in line: \n",
    "            annotations_12.append(val[0])\n",
    "        annotations.append(annotations_12)\n",
    "        \n",
    "recording_numbers = []\n",
    "\n",
    "with open(path_training_data+\"\\\\Training 50 Group I recording names.txt\") as f:\n",
    "    line = f.readline() \n",
    "    line = line.split('\\t')\n",
    "    for val in line: \n",
    "        val = val.split('\\n')\n",
    "        recording_numbers.append(val[0])\n",
    "        \n",
    "label_count = generate_store_kramer_data(annotations, recording_numbers, wav_data_range, label_count, path_cinc11, path_save_training, amount_data)"
   ]
  },
  {
   "cell_type": "code",
   "execution_count": 7,
   "id": "63e1f8c1",
   "metadata": {},
   "outputs": [],
   "source": [
    "# print(recording_numbers)\n",
    "# print(annotations)"
   ]
  },
  {
   "cell_type": "code",
   "execution_count": 8,
   "id": "ad596614",
   "metadata": {},
   "outputs": [],
   "source": [
    "annotations = []\n",
    "\n",
    "with open(path_training_data+\"\\\\Annotation Training Set Group II.txt\") as f:\n",
    "    lines = f.readlines()\n",
    "    for line in lines: \n",
    "        line = line.split('\\t')\n",
    "        annotations_12 = []\n",
    "        for val in line: \n",
    "            annotations_12.append(val[0])\n",
    "        annotations.append(annotations_12)\n",
    "        \n",
    "recording_numbers = []\n",
    "\n",
    "with open(path_training_data+\"\\\\Training 50 Group II recording names.txt\") as f:\n",
    "    line = f.readline() \n",
    "    line = line.split('\\t')\n",
    "    for val in line: \n",
    "        val = val.split('\\n')\n",
    "        recording_numbers.append(val[0])\n",
    "        \n",
    "label_count = generate_store_kramer_data(annotations, recording_numbers, wav_data_range, label_count, path_cinc11, path_save_training, amount_data)"
   ]
  },
  {
   "cell_type": "markdown",
   "id": "9a6cc502",
   "metadata": {},
   "source": [
    "# Save testing data"
   ]
  },
  {
   "cell_type": "code",
   "execution_count": 9,
   "id": "e5d09efb",
   "metadata": {},
   "outputs": [],
   "source": [
    "annotations = []\n",
    "\n",
    "with open(path_testing_data+\"\\\\Annotation Testing Set Group I.txt\") as f:\n",
    "    lines = f.readlines()\n",
    "    for line in lines: \n",
    "        line = line.split('\\t')\n",
    "        annotations_12 = []\n",
    "        for val in line: \n",
    "            annotations_12.append(val[0])\n",
    "        annotations.append(annotations_12)  \n",
    "\n",
    "recording_numbers = []\n",
    "\n",
    "with open(path_testing_data+\"\\\\Testing 175 Group I recording names.txt\") as f:\n",
    "    lines = f.readlines() \n",
    "    for val in lines:\n",
    "        val = val.split('\\n')\n",
    "        recording_numbers.append(val[0])\n",
    "\n",
    "# print(recording_numbers)\n",
    "label_count = generate_store_kramer_data(annotations, recording_numbers, wav_data_range, label_count, path_cinc11, path_save_testing, amount_data)"
   ]
  },
  {
   "cell_type": "code",
   "execution_count": 10,
   "id": "d85abad4",
   "metadata": {
    "scrolled": true
   },
   "outputs": [],
   "source": [
    "annotations = []\n",
    "\n",
    "with open(path_testing_data+\"\\\\Annotation Testing Set Group II.txt\") as f:\n",
    "    lines = f.readlines()\n",
    "    for line in lines: \n",
    "        line = line.split('\\t')\n",
    "        annotations_12 = []\n",
    "        for val in line: \n",
    "            annotations_12.append(val[0])\n",
    "        annotations.append(annotations_12)\n",
    "        \n",
    "recording_numbers = []\n",
    "\n",
    "with open(path_testing_data+\"\\\\Testing 175 Group II recording names.txt\") as f:\n",
    "    lines = f.readlines() \n",
    "    for val in lines:\n",
    "        val = val.split('\\n')\n",
    "        recording_numbers.append(val[0])\n",
    "        \n",
    "label_count = generate_store_kramer_data(annotations, recording_numbers, wav_data_range, label_count, path_cinc11, path_save_testing, amount_data)"
   ]
  },
  {
   "cell_type": "code",
   "execution_count": 11,
   "id": "0f547011",
   "metadata": {},
   "outputs": [
    {
     "name": "stdout",
     "output_type": "stream",
     "text": [
      "[1741, 3659]\n"
     ]
    }
   ],
   "source": [
    "print(label_count)"
   ]
  },
  {
   "cell_type": "code",
   "execution_count": 12,
   "id": "7d7444dc",
   "metadata": {},
   "outputs": [],
   "source": [
    "# shutil.rmtree(path_save+\"\\\\rest\")"
   ]
  }
 ],
 "metadata": {
  "kernelspec": {
   "display_name": "Python 3 (ipykernel)",
   "language": "python",
   "name": "python3"
  },
  "language_info": {
   "codemirror_mode": {
    "name": "ipython",
    "version": 3
   },
   "file_extension": ".py",
   "mimetype": "text/x-python",
   "name": "python",
   "nbconvert_exporter": "python",
   "pygments_lexer": "ipython3",
   "version": "3.8.11"
  }
 },
 "nbformat": 4,
 "nbformat_minor": 5
}
